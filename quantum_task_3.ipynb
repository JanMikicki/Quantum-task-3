{
  "nbformat": 4,
  "nbformat_minor": 0,
  "metadata": {
    "colab": {
      "provenance": []
    },
    "kernelspec": {
      "name": "python3",
      "display_name": "Python 3"
    },
    "language_info": {
      "name": "python"
    }
  },
  "cells": [
    {
      "cell_type": "code",
      "execution_count": null,
      "metadata": {
        "id": "wCApMNIkFcQx"
      },
      "outputs": [],
      "source": [
        "import numpy as np\n",
        "import matplotlib.pyplot as plt\n",
        "import pandas as pd"
      ]
    },
    {
      "cell_type": "code",
      "source": [
        "df = pd.read_csv ('/content/drive/MyDrive/quantum/internship_train.csv')\n",
        "df.head()"
      ],
      "metadata": {
        "colab": {
          "base_uri": "https://localhost:8080/",
          "height": 300
        },
        "id": "4y54J8Odb2l_",
        "outputId": "6c620c62-0f2e-41a9-eff4-793cd8f40063"
      },
      "execution_count": null,
      "outputs": [
        {
          "output_type": "execute_result",
          "data": {
            "text/plain": [
              "     0    1    2    3    4    5         6         7  8    9  ...         44  \\\n",
              "0  236  488   16  221  382   97 -4.472136  0.107472  0  132  ...  13.340874   \n",
              "1  386  206  357  232    1  198  7.810250  0.763713  1  143  ...  12.484882   \n",
              "2  429   49  481  111  111  146  8.602325  0.651162  1  430  ...  14.030257   \n",
              "3  414  350  481  370  208  158  8.306624  0.424645  1  340  ...   2.789577   \n",
              "4  318  359   20  218  317  301  8.124038  0.767304  1  212  ...   1.886560   \n",
              "\n",
              "         45         46         47         48         49         50         51  \\\n",
              "0  0.870542   1.962937   7.466666  11.547794   8.822916   9.046424   7.895535   \n",
              "1  7.168680   2.885415  12.413973  10.260494  10.091351   9.270888   3.173994   \n",
              "2  0.394970   8.160625  12.592059   8.937577   2.265191  11.255721  12.794841   \n",
              "3  6.416708  10.549814  11.456437   6.468099   2.519049   0.258284   9.317696   \n",
              "4  1.919999   2.268203   0.149421   4.105907  10.416291   6.816217   8.586960   \n",
              "\n",
              "          52     target  \n",
              "0  11.010677  20.107472  \n",
              "1  13.921871  61.763713  \n",
              "2  12.080951  74.651162  \n",
              "3   5.383098  69.424645  \n",
              "4   4.512419  66.767304  \n",
              "\n",
              "[5 rows x 54 columns]"
            ],
            "text/html": [
              "\n",
              "  <div id=\"df-a8eb4fe6-afaf-4437-82b1-dc4eeae6f9f8\">\n",
              "    <div class=\"colab-df-container\">\n",
              "      <div>\n",
              "<style scoped>\n",
              "    .dataframe tbody tr th:only-of-type {\n",
              "        vertical-align: middle;\n",
              "    }\n",
              "\n",
              "    .dataframe tbody tr th {\n",
              "        vertical-align: top;\n",
              "    }\n",
              "\n",
              "    .dataframe thead th {\n",
              "        text-align: right;\n",
              "    }\n",
              "</style>\n",
              "<table border=\"1\" class=\"dataframe\">\n",
              "  <thead>\n",
              "    <tr style=\"text-align: right;\">\n",
              "      <th></th>\n",
              "      <th>0</th>\n",
              "      <th>1</th>\n",
              "      <th>2</th>\n",
              "      <th>3</th>\n",
              "      <th>4</th>\n",
              "      <th>5</th>\n",
              "      <th>6</th>\n",
              "      <th>7</th>\n",
              "      <th>8</th>\n",
              "      <th>9</th>\n",
              "      <th>...</th>\n",
              "      <th>44</th>\n",
              "      <th>45</th>\n",
              "      <th>46</th>\n",
              "      <th>47</th>\n",
              "      <th>48</th>\n",
              "      <th>49</th>\n",
              "      <th>50</th>\n",
              "      <th>51</th>\n",
              "      <th>52</th>\n",
              "      <th>target</th>\n",
              "    </tr>\n",
              "  </thead>\n",
              "  <tbody>\n",
              "    <tr>\n",
              "      <th>0</th>\n",
              "      <td>236</td>\n",
              "      <td>488</td>\n",
              "      <td>16</td>\n",
              "      <td>221</td>\n",
              "      <td>382</td>\n",
              "      <td>97</td>\n",
              "      <td>-4.472136</td>\n",
              "      <td>0.107472</td>\n",
              "      <td>0</td>\n",
              "      <td>132</td>\n",
              "      <td>...</td>\n",
              "      <td>13.340874</td>\n",
              "      <td>0.870542</td>\n",
              "      <td>1.962937</td>\n",
              "      <td>7.466666</td>\n",
              "      <td>11.547794</td>\n",
              "      <td>8.822916</td>\n",
              "      <td>9.046424</td>\n",
              "      <td>7.895535</td>\n",
              "      <td>11.010677</td>\n",
              "      <td>20.107472</td>\n",
              "    </tr>\n",
              "    <tr>\n",
              "      <th>1</th>\n",
              "      <td>386</td>\n",
              "      <td>206</td>\n",
              "      <td>357</td>\n",
              "      <td>232</td>\n",
              "      <td>1</td>\n",
              "      <td>198</td>\n",
              "      <td>7.810250</td>\n",
              "      <td>0.763713</td>\n",
              "      <td>1</td>\n",
              "      <td>143</td>\n",
              "      <td>...</td>\n",
              "      <td>12.484882</td>\n",
              "      <td>7.168680</td>\n",
              "      <td>2.885415</td>\n",
              "      <td>12.413973</td>\n",
              "      <td>10.260494</td>\n",
              "      <td>10.091351</td>\n",
              "      <td>9.270888</td>\n",
              "      <td>3.173994</td>\n",
              "      <td>13.921871</td>\n",
              "      <td>61.763713</td>\n",
              "    </tr>\n",
              "    <tr>\n",
              "      <th>2</th>\n",
              "      <td>429</td>\n",
              "      <td>49</td>\n",
              "      <td>481</td>\n",
              "      <td>111</td>\n",
              "      <td>111</td>\n",
              "      <td>146</td>\n",
              "      <td>8.602325</td>\n",
              "      <td>0.651162</td>\n",
              "      <td>1</td>\n",
              "      <td>430</td>\n",
              "      <td>...</td>\n",
              "      <td>14.030257</td>\n",
              "      <td>0.394970</td>\n",
              "      <td>8.160625</td>\n",
              "      <td>12.592059</td>\n",
              "      <td>8.937577</td>\n",
              "      <td>2.265191</td>\n",
              "      <td>11.255721</td>\n",
              "      <td>12.794841</td>\n",
              "      <td>12.080951</td>\n",
              "      <td>74.651162</td>\n",
              "    </tr>\n",
              "    <tr>\n",
              "      <th>3</th>\n",
              "      <td>414</td>\n",
              "      <td>350</td>\n",
              "      <td>481</td>\n",
              "      <td>370</td>\n",
              "      <td>208</td>\n",
              "      <td>158</td>\n",
              "      <td>8.306624</td>\n",
              "      <td>0.424645</td>\n",
              "      <td>1</td>\n",
              "      <td>340</td>\n",
              "      <td>...</td>\n",
              "      <td>2.789577</td>\n",
              "      <td>6.416708</td>\n",
              "      <td>10.549814</td>\n",
              "      <td>11.456437</td>\n",
              "      <td>6.468099</td>\n",
              "      <td>2.519049</td>\n",
              "      <td>0.258284</td>\n",
              "      <td>9.317696</td>\n",
              "      <td>5.383098</td>\n",
              "      <td>69.424645</td>\n",
              "    </tr>\n",
              "    <tr>\n",
              "      <th>4</th>\n",
              "      <td>318</td>\n",
              "      <td>359</td>\n",
              "      <td>20</td>\n",
              "      <td>218</td>\n",
              "      <td>317</td>\n",
              "      <td>301</td>\n",
              "      <td>8.124038</td>\n",
              "      <td>0.767304</td>\n",
              "      <td>1</td>\n",
              "      <td>212</td>\n",
              "      <td>...</td>\n",
              "      <td>1.886560</td>\n",
              "      <td>1.919999</td>\n",
              "      <td>2.268203</td>\n",
              "      <td>0.149421</td>\n",
              "      <td>4.105907</td>\n",
              "      <td>10.416291</td>\n",
              "      <td>6.816217</td>\n",
              "      <td>8.586960</td>\n",
              "      <td>4.512419</td>\n",
              "      <td>66.767304</td>\n",
              "    </tr>\n",
              "  </tbody>\n",
              "</table>\n",
              "<p>5 rows × 54 columns</p>\n",
              "</div>\n",
              "      <button class=\"colab-df-convert\" onclick=\"convertToInteractive('df-a8eb4fe6-afaf-4437-82b1-dc4eeae6f9f8')\"\n",
              "              title=\"Convert this dataframe to an interactive table.\"\n",
              "              style=\"display:none;\">\n",
              "        \n",
              "  <svg xmlns=\"http://www.w3.org/2000/svg\" height=\"24px\"viewBox=\"0 0 24 24\"\n",
              "       width=\"24px\">\n",
              "    <path d=\"M0 0h24v24H0V0z\" fill=\"none\"/>\n",
              "    <path d=\"M18.56 5.44l.94 2.06.94-2.06 2.06-.94-2.06-.94-.94-2.06-.94 2.06-2.06.94zm-11 1L8.5 8.5l.94-2.06 2.06-.94-2.06-.94L8.5 2.5l-.94 2.06-2.06.94zm10 10l.94 2.06.94-2.06 2.06-.94-2.06-.94-.94-2.06-.94 2.06-2.06.94z\"/><path d=\"M17.41 7.96l-1.37-1.37c-.4-.4-.92-.59-1.43-.59-.52 0-1.04.2-1.43.59L10.3 9.45l-7.72 7.72c-.78.78-.78 2.05 0 2.83L4 21.41c.39.39.9.59 1.41.59.51 0 1.02-.2 1.41-.59l7.78-7.78 2.81-2.81c.8-.78.8-2.07 0-2.86zM5.41 20L4 18.59l7.72-7.72 1.47 1.35L5.41 20z\"/>\n",
              "  </svg>\n",
              "      </button>\n",
              "      \n",
              "  <style>\n",
              "    .colab-df-container {\n",
              "      display:flex;\n",
              "      flex-wrap:wrap;\n",
              "      gap: 12px;\n",
              "    }\n",
              "\n",
              "    .colab-df-convert {\n",
              "      background-color: #E8F0FE;\n",
              "      border: none;\n",
              "      border-radius: 50%;\n",
              "      cursor: pointer;\n",
              "      display: none;\n",
              "      fill: #1967D2;\n",
              "      height: 32px;\n",
              "      padding: 0 0 0 0;\n",
              "      width: 32px;\n",
              "    }\n",
              "\n",
              "    .colab-df-convert:hover {\n",
              "      background-color: #E2EBFA;\n",
              "      box-shadow: 0px 1px 2px rgba(60, 64, 67, 0.3), 0px 1px 3px 1px rgba(60, 64, 67, 0.15);\n",
              "      fill: #174EA6;\n",
              "    }\n",
              "\n",
              "    [theme=dark] .colab-df-convert {\n",
              "      background-color: #3B4455;\n",
              "      fill: #D2E3FC;\n",
              "    }\n",
              "\n",
              "    [theme=dark] .colab-df-convert:hover {\n",
              "      background-color: #434B5C;\n",
              "      box-shadow: 0px 1px 3px 1px rgba(0, 0, 0, 0.15);\n",
              "      filter: drop-shadow(0px 1px 2px rgba(0, 0, 0, 0.3));\n",
              "      fill: #FFFFFF;\n",
              "    }\n",
              "  </style>\n",
              "\n",
              "      <script>\n",
              "        const buttonEl =\n",
              "          document.querySelector('#df-a8eb4fe6-afaf-4437-82b1-dc4eeae6f9f8 button.colab-df-convert');\n",
              "        buttonEl.style.display =\n",
              "          google.colab.kernel.accessAllowed ? 'block' : 'none';\n",
              "\n",
              "        async function convertToInteractive(key) {\n",
              "          const element = document.querySelector('#df-a8eb4fe6-afaf-4437-82b1-dc4eeae6f9f8');\n",
              "          const dataTable =\n",
              "            await google.colab.kernel.invokeFunction('convertToInteractive',\n",
              "                                                     [key], {});\n",
              "          if (!dataTable) return;\n",
              "\n",
              "          const docLinkHtml = 'Like what you see? Visit the ' +\n",
              "            '<a target=\"_blank\" href=https://colab.research.google.com/notebooks/data_table.ipynb>data table notebook</a>'\n",
              "            + ' to learn more about interactive tables.';\n",
              "          element.innerHTML = '';\n",
              "          dataTable['output_type'] = 'display_data';\n",
              "          await google.colab.output.renderOutput(dataTable, element);\n",
              "          const docLink = document.createElement('div');\n",
              "          docLink.innerHTML = docLinkHtml;\n",
              "          element.appendChild(docLink);\n",
              "        }\n",
              "      </script>\n",
              "    </div>\n",
              "  </div>\n",
              "  "
            ]
          },
          "metadata": {},
          "execution_count": 19
        }
      ]
    },
    {
      "cell_type": "code",
      "source": [
        "print(f\"Nr of rows: {len(df)}\")\n",
        "\n",
        "print(f\"Missing values?: {df.isnull().values.any()}\")\n",
        "\n",
        "print(f\"Datatypes: {set([x for x in df.dtypes])}\")"
      ],
      "metadata": {
        "colab": {
          "base_uri": "https://localhost:8080/"
        },
        "id": "pimAtzZth67L",
        "outputId": "ac70e582-7e9b-4746-ef7b-028dc0378890"
      },
      "execution_count": null,
      "outputs": [
        {
          "output_type": "stream",
          "name": "stdout",
          "text": [
            "Nr of rows: 90000\n",
            "Missing values?: False\n",
            "Datatypes: {dtype('float64'), dtype('int64')}\n"
          ]
        }
      ]
    },
    {
      "cell_type": "markdown",
      "source": [
        "I decided to use a random forest regressor, because it's often a good starting point for most tabular data problems like this one."
      ],
      "metadata": {
        "id": "_UwnnaPvlMK0"
      }
    },
    {
      "cell_type": "code",
      "source": [
        "from sklearn.model_selection import train_test_split\n",
        "\n",
        "x = df.iloc [:, : -1]\n",
        "y = df.iloc [:, -1 :] \n",
        "\n",
        "X_train, X_test, y_train, y_test = train_test_split(\n",
        "                                x, y, test_size=0.2, random_state=0)"
      ],
      "metadata": {
        "id": "mEiuJNJ1ck_b"
      },
      "execution_count": null,
      "outputs": []
    },
    {
      "cell_type": "code",
      "source": [
        "from sklearn.ensemble import RandomForestRegressor\n",
        "\n",
        "regressor = RandomForestRegressor(n_estimators = 100, random_state = 0)\n",
        "regressor.fit(X_train, y_train) "
      ],
      "metadata": {
        "colab": {
          "base_uri": "https://localhost:8080/"
        },
        "id": "zCPiloWreKvT",
        "outputId": "6fe00304-4498-4442-d3a6-38a5a3a2ec9a"
      },
      "execution_count": null,
      "outputs": [
        {
          "output_type": "stream",
          "name": "stderr",
          "text": [
            "/usr/local/lib/python3.7/dist-packages/ipykernel_launcher.py:4: DataConversionWarning: A column-vector y was passed when a 1d array was expected. Please change the shape of y to (n_samples,), for example using ravel().\n",
            "  after removing the cwd from sys.path.\n"
          ]
        },
        {
          "output_type": "execute_result",
          "data": {
            "text/plain": [
              "RandomForestRegressor(random_state=0)"
            ]
          },
          "metadata": {},
          "execution_count": 7
        }
      ]
    },
    {
      "cell_type": "code",
      "source": [
        "score = regressor.score(X_train, y_train)\n",
        "print(\"R-squared:\", score)"
      ],
      "metadata": {
        "colab": {
          "base_uri": "https://localhost:8080/"
        },
        "id": "25sb9tevfLz0",
        "outputId": "4fe4845e-19e0-4545-d57d-60a0f6fd8183"
      },
      "execution_count": null,
      "outputs": [
        {
          "output_type": "stream",
          "name": "stdout",
          "text": [
            "R-squared: 0.9999999972404852\n"
          ]
        }
      ]
    },
    {
      "cell_type": "code",
      "source": [
        "from sklearn.metrics import mean_squared_error\n",
        "\n",
        "ypred = regressor.predict(X_test)\n",
        "\n",
        "mse = mean_squared_error(y_test, ypred)\n",
        "print(\"MSE: \", mse)\n",
        "print(\"RMSE: \", mse*(1/2.0)) "
      ],
      "metadata": {
        "colab": {
          "base_uri": "https://localhost:8080/"
        },
        "id": "JZY5v8a3gnMd",
        "outputId": "176bc33a-4164-4c5e-ea4e-685f450b1620"
      },
      "execution_count": null,
      "outputs": [
        {
          "output_type": "stream",
          "name": "stdout",
          "text": [
            "MSE:  1.4452858114389958e-05\n",
            "RMSE:  7.226429057194979e-06\n"
          ]
        }
      ]
    },
    {
      "cell_type": "markdown",
      "source": [
        "With more time we could further finetune the model for example by using GridSearchCV or RandomSearchCV and using RMSE as a target score.\n",
        "\n",
        "However I think that in this case there is no need for improvement as the score is quite good."
      ],
      "metadata": {
        "id": "qHNd806olgey"
      }
    },
    {
      "cell_type": "code",
      "source": [
        "# Simple graph to visualize some results\n",
        "x_ax = range(0, 100)\n",
        "plt.plot(x_ax, y_test[:100], linewidth=1.9, label=\"original\")\n",
        "plt.plot(x_ax, ypred[:100], linewidth=1., label=\"predicted\")\n",
        "plt.title(\"y-test and y-predicted data\")\n",
        "plt.xlabel('X-axis')\n",
        "plt.ylabel('Y-axis')\n",
        "plt.legend(loc='best',fancybox=True, shadow=True)\n",
        "plt.grid(True)\n",
        "plt.show() "
      ],
      "metadata": {
        "colab": {
          "base_uri": "https://localhost:8080/",
          "height": 295
        },
        "id": "n0XZMnTxgzpM",
        "outputId": "9bda37be-99cf-454b-dea6-bfe023d14605"
      },
      "execution_count": null,
      "outputs": [
        {
          "output_type": "display_data",
          "data": {
            "text/plain": [
              "<Figure size 432x288 with 1 Axes>"
            ],
            "image/png": "[encoded data removed]"
          },
          "metadata": {
            "needs_background": "light"
          }
        }
      ]
    },
    {
      "cell_type": "code",
      "source": [
        "# Predict new/hidden data\n",
        "df = pd.read_csv ('/content/drive/MyDrive/quantum/internship_hidden_test.csv')\n",
        "\n",
        "ypred = regressor.predict(df)\n",
        "df['prediction'] = ypred\n",
        "\n",
        "df.to_csv('hidden_test_with_predictions.csv', index=False)"
      ],
      "metadata": {
        "id": "VLftbJKpioAF"
      },
      "execution_count": null,
      "outputs": []
    }
  ]
}